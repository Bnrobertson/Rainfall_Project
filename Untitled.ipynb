{
 "cells": [
  {
   "cell_type": "code",
   "execution_count": 1,
   "id": "a3ded5b0",
   "metadata": {},
   "outputs": [
    {
     "name": "stdout",
     "output_type": "stream",
     "text": [
      "            tavg  tmin  tmax  prcp  snow   wdir  wspd  wpgt    pres  tsun\n",
      "time                                                                     \n",
      "2000-01-01  10.0   0.6  19.4   0.0   0.0    NaN   4.7   NaN  1024.3   NaN\n",
      "2000-01-02  13.9   6.1  21.1   0.0   0.0    NaN  12.2   NaN  1023.5   NaN\n",
      "2000-01-03  18.3  12.8  23.3   0.0   0.0  208.0  16.6   NaN  1021.0   NaN\n",
      "2000-01-04  16.7  10.6  22.8   8.6   0.0  218.0  25.6   NaN  1012.0   NaN\n",
      "2000-01-05   3.9  -2.8  10.6   0.0   0.0    NaN   9.4   NaN  1024.3   NaN\n",
      "...          ...   ...   ...   ...   ...    ...   ...   ...     ...   ...\n",
      "2024-05-13  18.8  10.6  26.7   0.0   0.0  133.0  10.4   NaN  1017.4   NaN\n",
      "2024-05-14  29.8  22.2  37.2   0.0   NaN  105.0  11.9   NaN  1011.9   NaN\n",
      "2024-05-15  28.4  22.8  35.0   0.0   NaN    0.0   4.7   NaN  1006.1   NaN\n",
      "2024-05-16  27.4  22.2  33.9   0.0   NaN  351.0   5.2   NaN  1008.6   NaN\n",
      "2024-05-17  27.9  21.7  36.7  19.1   NaN  109.0   7.7   NaN  1011.9   NaN\n",
      "\n",
      "[8904 rows x 10 columns]\n"
     ]
    }
   ],
   "source": []
  },
  {
   "cell_type": "code",
   "execution_count": null,
   "id": "0dba75cb",
   "metadata": {},
   "outputs": [],
   "source": []
  }
 ],
 "metadata": {
  "kernelspec": {
   "display_name": "Python 3 (ipykernel)",
   "language": "python",
   "name": "python3"
  },
  "language_info": {
   "codemirror_mode": {
    "name": "ipython",
    "version": 3
   },
   "file_extension": ".py",
   "mimetype": "text/x-python",
   "name": "python",
   "nbconvert_exporter": "python",
   "pygments_lexer": "ipython3",
   "version": "3.10.13"
  }
 },
 "nbformat": 4,
 "nbformat_minor": 5
}
